{
 "cells": [
  {
   "cell_type": "markdown",
   "id": "f73f0838-cc60-4a71-ba92-68c13f953c8e",
   "metadata": {},
   "source": [
    "Question 1:\n",
    "Which keyword is used to create a function? Create a function to return a list of odd numbers in the\n",
    "range of 1 to 25.\n",
    "\n",
    "\n",
    "Answer:\n",
    "def keyword is used to create a function ."
   ]
  },
  {
   "cell_type": "code",
   "execution_count": 1,
   "id": "48a73000-6512-4c97-a0b0-9d5457cee664",
   "metadata": {},
   "outputs": [],
   "source": [
    "def oddnumber():\n",
    "    return [i for i in range(1,26) if(i%2!=0)]"
   ]
  },
  {
   "cell_type": "code",
   "execution_count": 2,
   "id": "ea897b3d-cfe1-48b1-aafa-fa76feeb8c7b",
   "metadata": {},
   "outputs": [
    {
     "data": {
      "text/plain": [
       "[1, 3, 5, 7, 9, 11, 13, 15, 17, 19, 21, 23, 25]"
      ]
     },
     "execution_count": 2,
     "metadata": {},
     "output_type": "execute_result"
    }
   ],
   "source": [
    "oddnumber()"
   ]
  },
  {
   "cell_type": "markdown",
   "id": "36b7471e-0da6-408c-903f-5a0a4b85a6bb",
   "metadata": {},
   "source": [
    "Question 2:\n",
    "Why *args and **kwargs is used in some functions? Create a function each for *args and **kwargs\n",
    "to demonstrate their use.\n",
    "\n",
    "\n",
    "Answer:\n",
    "The special syntax *args in function definitions in python is used to pass a variable number of arguments to a function. It is used to pass a non-key worded, variable-length argument list. \n",
    "\n",
    "The special syntax **kwargs in function definitions in python is used to pass a keyworded, variable-length argument list. We use the name kwargs with the double star. The reason is that the double star allows us to pass through keyword arguments"
   ]
  },
  {
   "cell_type": "code",
   "execution_count": 3,
   "id": "c7d3266d-457f-4fb6-b82e-51bb6189c9dc",
   "metadata": {},
   "outputs": [
    {
     "name": "stdout",
     "output_type": "stream",
     "text": [
      "Hello\n",
      "Raj\n"
     ]
    }
   ],
   "source": [
    "def myFun(*argv):\n",
    "    for arg in argv:\n",
    "        print(arg)\n",
    " \n",
    " \n",
    "myFun('Hello', 'Raj') "
   ]
  },
  {
   "cell_type": "code",
   "execution_count": 4,
   "id": "d2b2a2b8-db37-45cf-a4d2-4df20096d4ea",
   "metadata": {},
   "outputs": [
    {
     "name": "stdout",
     "output_type": "stream",
     "text": [
      "('name', 'raj')\n",
      "('section', 'B')\n"
     ]
    }
   ],
   "source": [
    "def myFun(**kwargs):\n",
    "    for key,value in kwargs.items():\n",
    "        print((key,value)) \n",
    "myFun(name='raj',section='B') "
   ]
  },
  {
   "cell_type": "markdown",
   "id": "70e6fced-66b6-4217-9a16-553b5c0c78e4",
   "metadata": {},
   "source": [
    "Question 3:\n",
    "What is an iterator in python? Name the method used to initialise the iterator object and the method\n",
    "used for iteration. Use these methods to print the first five elements of the given list [2, 4, 6, 8, 10, 12, 14,\n",
    "16, 18, 20].\n",
    "\n",
    "Answer:\n",
    "An iterator is an object that contains a countable number of values.\n",
    "The iterator object is initialized using the iter() method. It uses the next() method for iteration."
   ]
  },
  {
   "cell_type": "code",
   "execution_count": 8,
   "id": "ed28cba3-2f89-432f-8b40-d400441c789c",
   "metadata": {},
   "outputs": [
    {
     "name": "stdout",
     "output_type": "stream",
     "text": [
      "R\n",
      "a\n",
      "j\n"
     ]
    }
   ],
   "source": [
    "string = \"Rajkumarray\"\n",
    "ch_iterator = iter(string)\n",
    " \n",
    "print(next(ch_iterator))\n",
    "print(next(ch_iterator))\n",
    "print(next(ch_iterator))"
   ]
  },
  {
   "cell_type": "markdown",
   "id": "1be82cb4-0b0a-4566-b015-b61b04ae7e22",
   "metadata": {},
   "source": [
    "Question 4:\n",
    "What is a generator function in python? Why yield keyword is used? Give an example of a generator\n",
    "function.\n",
    "\n",
    "Answer:\n",
    "In Python, generator functions are those functions that, instead of returning a single value, return an iterable generator object. You can access or read the values returned from the generator function stored inside a generator object one-by-one using a simple loop or using next() or list() methods.\n",
    "\n",
    "The Yield keyword in Python is similar to a return statement used for returning values or objects in Python. However, there is a slight difference. The yield statement returns a generator object to the one who calls the function which contains yield, instead of simply returning a value. "
   ]
  },
  {
   "cell_type": "code",
   "execution_count": 15,
   "id": "b2f32437-d6ae-4b44-bb03-3838f3fe1104",
   "metadata": {},
   "outputs": [],
   "source": [
    "def oddnumber(l1):\n",
    "    for i in l1:\n",
    "        if(i%2!=0):\n",
    "            print(\"raj\")\n",
    "            yield i"
   ]
  },
  {
   "cell_type": "code",
   "execution_count": 16,
   "id": "86680186-566b-4be0-ba7c-17d3d793d25c",
   "metadata": {},
   "outputs": [
    {
     "name": "stdout",
     "output_type": "stream",
     "text": [
      "raj\n",
      "1\n",
      "raj\n",
      "3\n",
      "raj\n",
      "5\n"
     ]
    }
   ],
   "source": [
    "for i in oddnumber([1,2,3,4,5]):\n",
    "    print(i)"
   ]
  },
  {
   "cell_type": "markdown",
   "id": "728e1d6a-0677-408b-bb3c-26c05eb23347",
   "metadata": {},
   "source": [
    "Question 5:\n",
    "Create a generator function for prime numbers less than 1000. Use the next() method to print the\n",
    "first 20 prime numbers."
   ]
  },
  {
   "cell_type": "code",
   "execution_count": 23,
   "id": "48bd5266-757e-4218-9c0f-083b33d7d06b",
   "metadata": {},
   "outputs": [],
   "source": [
    "import math\n",
    "def genfun(n):\n",
    "    for i in range(2,n+1):\n",
    "        flag=0\n",
    "        for j in range(2,int(math.sqrt(i))+1):\n",
    "            if(i%j==0):\n",
    "                flag=1\n",
    "                break\n",
    "        if flag==0:\n",
    "            yield i\n",
    "                "
   ]
  },
  {
   "cell_type": "code",
   "execution_count": 27,
   "id": "0239dfaf-8779-448a-bbba-bb08a72c2ecb",
   "metadata": {},
   "outputs": [
    {
     "name": "stdout",
     "output_type": "stream",
     "text": [
      "2\n",
      "3\n",
      "5\n",
      "7\n",
      "11\n",
      "13\n",
      "17\n",
      "19\n",
      "23\n",
      "29\n",
      "31\n",
      "37\n",
      "41\n",
      "43\n",
      "47\n",
      "53\n",
      "59\n",
      "61\n",
      "67\n",
      "71\n"
     ]
    }
   ],
   "source": [
    "list1=genfun(1000)\n",
    "list1=iter(list1)\n",
    "print(next(list1))\n",
    "print(next(list1))\n",
    "print(next(list1))\n",
    "print(next(list1))\n",
    "print(next(list1))\n",
    "print(next(list1))\n",
    "print(next(list1))\n",
    "print(next(list1))\n",
    "print(next(list1))\n",
    "print(next(list1))\n",
    "print(next(list1))\n",
    "print(next(list1))\n",
    "print(next(list1))\n",
    "print(next(list1))\n",
    "print(next(list1))\n",
    "print(next(list1))\n",
    "print(next(list1))\n",
    "print(next(list1))\n",
    "print(next(list1))\n",
    "print(next(list1))"
   ]
  },
  {
   "cell_type": "markdown",
   "id": "534c6352-c0c2-4272-b5b4-da3a00a95736",
   "metadata": {},
   "source": [
    "Question 6:\n",
    "Write a python program to print the first 10 Fibonacci numbers using a while loop."
   ]
  },
  {
   "cell_type": "code",
   "execution_count": 5,
   "id": "6c74cd42-605b-4255-87ef-54770d246138",
   "metadata": {},
   "outputs": [
    {
     "name": "stdout",
     "output_type": "stream",
     "text": [
      "1 1 2 3 5 8 13 21 34 55 89 "
     ]
    }
   ],
   "source": [
    "a,b=1,1\n",
    "print(a,b,end=\" \")\n",
    "i=2\n",
    "while(i<11):\n",
    "    c=b+a\n",
    "    a=b\n",
    "    b=c\n",
    "    print(b,end=\" \")\n",
    "    i+=1"
   ]
  },
  {
   "cell_type": "markdown",
   "id": "57ee4031-8358-495c-95d8-bd733a91f2c8",
   "metadata": {},
   "source": [
    "Question 7:\n",
    "Write a List Comprehension to iterate through the given string: ‘pwskills’.\n",
    "Expected output: ['p', 'w', 's', 'k', 'i', 'l', 'l', 's']"
   ]
  },
  {
   "cell_type": "code",
   "execution_count": 6,
   "id": "b366acb2-b6f6-4dba-b176-2a8d98e7ea0d",
   "metadata": {},
   "outputs": [
    {
     "data": {
      "text/plain": [
       "['p', 'w', 's', 'k', 'i', 'l', 'l', 's']"
      ]
     },
     "execution_count": 6,
     "metadata": {},
     "output_type": "execute_result"
    }
   ],
   "source": [
    "[i for i in \"pwskills\"]"
   ]
  },
  {
   "cell_type": "markdown",
   "id": "3409adbc-335c-49ce-8163-5ae46da27b87",
   "metadata": {},
   "source": [
    "Question 8:\n",
    "Write a python program to check whether a given number is Palindrome or not using a while loop."
   ]
  },
  {
   "cell_type": "code",
   "execution_count": 7,
   "id": "15a9c075-9e50-473f-ab16-95da08ea3f9a",
   "metadata": {},
   "outputs": [
    {
     "name": "stdin",
     "output_type": "stream",
     "text": [
      "enter the number 212\n"
     ]
    },
    {
     "name": "stdout",
     "output_type": "stream",
     "text": [
      "the number if palindrome\n"
     ]
    }
   ],
   "source": [
    "number=int(input(\"enter the number\"))\n",
    "n=number\n",
    "s=0\n",
    "while(n!=0):\n",
    "    s=(s*10)+(n%10)\n",
    "    n=int(n/10)\n",
    "if(s==number):\n",
    "    print(\"the number if palindrome\")\n",
    "else:\n",
    "    print(\"Not a palindrome\")"
   ]
  },
  {
   "cell_type": "markdown",
   "id": "e2496075-cd3f-4e1c-987b-2e27e38557c3",
   "metadata": {},
   "source": [
    "Question 9:\n",
    "Write a code to print odd numbers from 1 to 100 using list comprehension."
   ]
  },
  {
   "cell_type": "code",
   "execution_count": 11,
   "id": "8d79e440-c4ba-4c74-9532-2e03e9e0adc4",
   "metadata": {},
   "outputs": [
    {
     "data": {
      "text/plain": [
       "[1,\n",
       " 3,\n",
       " 5,\n",
       " 7,\n",
       " 9,\n",
       " 11,\n",
       " 13,\n",
       " 15,\n",
       " 17,\n",
       " 19,\n",
       " 21,\n",
       " 23,\n",
       " 25,\n",
       " 27,\n",
       " 29,\n",
       " 31,\n",
       " 33,\n",
       " 35,\n",
       " 37,\n",
       " 39,\n",
       " 41,\n",
       " 43,\n",
       " 45,\n",
       " 47,\n",
       " 49,\n",
       " 51,\n",
       " 53,\n",
       " 55,\n",
       " 57,\n",
       " 59,\n",
       " 61,\n",
       " 63,\n",
       " 65,\n",
       " 67,\n",
       " 69,\n",
       " 71,\n",
       " 73,\n",
       " 75,\n",
       " 77,\n",
       " 79,\n",
       " 81,\n",
       " 83,\n",
       " 85,\n",
       " 87,\n",
       " 89,\n",
       " 91,\n",
       " 93,\n",
       " 95,\n",
       " 97,\n",
       " 99]"
      ]
     },
     "execution_count": 11,
     "metadata": {},
     "output_type": "execute_result"
    }
   ],
   "source": [
    "[i for i in [i for i in range(1,101)] if i%2!=0]"
   ]
  }
 ],
 "metadata": {
  "kernelspec": {
   "display_name": "Python 3 (ipykernel)",
   "language": "python",
   "name": "python3"
  },
  "language_info": {
   "codemirror_mode": {
    "name": "ipython",
    "version": 3
   },
   "file_extension": ".py",
   "mimetype": "text/x-python",
   "name": "python",
   "nbconvert_exporter": "python",
   "pygments_lexer": "ipython3",
   "version": "3.10.8"
  }
 },
 "nbformat": 4,
 "nbformat_minor": 5
}
